{
  "nbformat": 4,
  "nbformat_minor": 0,
  "metadata": {
    "colab": {
      "provenance": []
    },
    "kernelspec": {
      "name": "python3",
      "display_name": "Python 3"
    },
    "language_info": {
      "name": "python"
    }
  },
  "cells": [
    {
      "cell_type": "markdown",
      "source": [
        "#Python Data Structure"
      ],
      "metadata": {
        "id": "zKnv8_kSdJC9"
      }
    },
    {
      "cell_type": "markdown",
      "source": [
        "1. What are data structures, and why are they important?\n",
        "   - Answer:-> Data structures are the way of organizing and storing data so it can be accessed and manipulated efficiently. They can include names, adrresses,dates--fields that are recognizable and searchable by computers.\n",
        "\n"
      ],
      "metadata": {
        "id": "j6Bkz9ROdPg6"
      }
    },
    {
      "cell_type": "markdown",
      "source": [
        "2. Explain the difference between mutable and immutable data types with examples.\n",
        "   -  Answer:- Mutable allow modification of their values creation.\n",
        "   Examples:- List,Set and Tuple.\n",
        "   Immutable doesn't allow any modification of their values once created."
      ],
      "metadata": {
        "id": "rriz9ttZV--p"
      }
    },
    {
      "cell_type": "markdown",
      "source": [
        "3. What are the main differences between lists and tuples in Python ?\n",
        "   - ANswer:-> Lists are mutable whereas Tuples are immutable.\n",
        "   Tuples are faster than List.\n",
        "   Lists have more built in methods for modifying their contents while tuples have fewer methods due to their immutability."
      ],
      "metadata": {
        "id": "k-XTu0qgV_aB"
      }
    },
    {
      "cell_type": "markdown",
      "source": [
        "4. Describe how dictionaries store data.\n",
        "   - Answer:-> Dictionaries stores value in key and pair value.They use a umique key to identify and retrieve associated values.They are mutable."
      ],
      "metadata": {
        "id": "q93xlInhV_cq"
      }
    },
    {
      "cell_type": "markdown",
      "source": [
        "5. Why might you use a set instead of a list in Python?\n",
        "   - Answer:-> Set:->\n",
        "               -store only unique elements.\n",
        "               -check if an element exists in the collection quickly.\n",
        "               -The order of elements does not matter.\n",
        "             List:->\n",
        "               -Store elements in a specific order.\n",
        "               -To access elements by index.\n",
        "               -Allow duplicate elements."
      ],
      "metadata": {
        "id": "mIisHS_FV_gZ"
      }
    },
    {
      "cell_type": "markdown",
      "source": [
        "6. What is a string in Python, and how is it different from a list?\n",
        "   - Answer:-> In Python, a string is an immutable sequence of characters, while a list is a mutable sequence of items, which can be of any data type. Strings are typically represented by text within single or double quotes, and they can only contain characters, whereas lists can hold various elements like numbers, other lists, or even strings."
      ],
      "metadata": {
        "id": "RXTElC4GV_jm"
      }
    },
    {
      "cell_type": "markdown",
      "source": [
        "7. How do tuples ensure data integrity in Python?\n",
        "   - Answer:->Tuples in Python ensure data integrity through their immutability. Once a tuple is created, its elements cannot be modified, added, or removed. This characteristic guarantees that the data stored within a tuple remains constant throughout its lifecycle."
      ],
      "metadata": {
        "id": "jbp0eFigV_oI"
      }
    },
    {
      "cell_type": "markdown",
      "source": [
        "8. What is a hash table, and how does it relate to dictionaries in Python?\n",
        "   - Answer:->A hash table is a data structure that stores data in key-value pairs, using a hash function to compute the index for each key. This allows for efficient data retrieval, insertion, and deletion.\n",
        "In Python, dictionaries are implemented using hash tables. When a key-value pair is added to a dictionary, Python calculates the hash value of the key and uses it to determine where to store the value in the underlying hash table. This enables Python dictionaries to offer average-case O(1) time complexity for most operations, making them a highly efficient data structure for many applications."
      ],
      "metadata": {
        "id": "4XWaOTwEV_2E"
      }
    },
    {
      "cell_type": "markdown",
      "source": [
        "9. Can lists contain different data types in Python?\n",
        "   - Answer:-> Yes, List can contains different types in python such as integer,float and string etc.\n",
        "   "
      ],
      "metadata": {
        "id": "7jXGSECGV_-V"
      }
    },
    {
      "cell_type": "markdown",
      "source": [
        "10. Explain why strings are immutable in python?\n",
        "    - Answer:-> Strings are immutable means they can't be changed once they are created.\n",
        "    It helps in hasing,performance optimization, safety, ease of use etc.\n",
        "    \n"
      ],
      "metadata": {
        "id": "tVDjaaaxWAH0"
      }
    },
    {
      "cell_type": "markdown",
      "source": [
        "11. What advantages do dictionaries offer over lists for certain tasks?\n",
        "    - Answer:-> Dictionaries excel over lists when you need fast lookups and efficient storage of key-value pairs. For quick retrieval.\n",
        "    On the other hand, list are better suited for ordered collections and sequential processing."
      ],
      "metadata": {
        "id": "fnb0zkNRWAV4"
      }
    },
    {
      "cell_type": "markdown",
      "source": [
        "12. Describe a scenario where using a tuple would be preferable over a list.\n",
        "    - Answer:-> IT depends upon the specific use case:\n",
        "   1. Use a list if you need a mutable collection of items where you may need to add, remove, or change elements. Lists are more flexible and have more built-in methods, making them ideal for dynamic collections.\n",
        "2. Use a tuple if you need an immutable collection where the elements won't change after creation. Tuples are generally faster and more memory-efficient than lists, making them better for fixed collections, especially as dictionary keys or when iteration speed is crucial.\n",
        "\n",
        "Use lists for flexibility and tuples for performance and immutability."
      ],
      "metadata": {
        "id": "Jh9Wme-MWAcw"
      }
    },
    {
      "cell_type": "markdown",
      "source": [
        "13. How do sets handle duplicate values in Python?\n",
        "    - Answer:-> In Python, sets are designed to store only unique elements. When an attempt is made to add a duplicate value to a set, the set automatically discards the duplicate, ensuring that each element appears only once. This behavior is fundamental to the nature of sets as unordered collections of distinct items.\n"
      ],
      "metadata": {
        "id": "rbiZV0sMWAkL"
      }
    },
    {
      "cell_type": "markdown",
      "source": [
        "14. How does the “in” keyword work differently for lists and dictionaries?\n",
        "    - Answer:->  For lists, \"in\" checks if a specific element exists as a value within the list. For dictionaries, \"in\" checks if a given key exists in the dictionary."
      ],
      "metadata": {
        "id": "aQgiB7CXWAqu"
      }
    },
    {
      "cell_type": "markdown",
      "source": [
        "15. Can you modify the elements of a tuple? Explain why or why not.\n",
        "    - Answer:-> No, we can't modify the elements of tuple as tuple is immutable and the property of immutability comes with the condition that once any values is assigned in tuple then it can't be changed."
      ],
      "metadata": {
        "id": "bRj9Jah3WAv2"
      }
    },
    {
      "cell_type": "markdown",
      "source": [
        "16. What is a nested dictionary, and give an example of its use case?\n",
        "    - Answer:-> Nested dictionary means a dictionary where the value od one or more keys is another dictionary.\n",
        "    Example:-> Representing hierarchical data like an employee directory with each employee having their own dictionary of details.\n",
        "    # Nested dictionary representing employees in a company\n",
        "employees = {\n",
        "  \"department1\": {\n",
        "    \"emp1\": {\n",
        "      \"name\": \"Arun\",\n",
        "      \"title\": \"Software Engineer\",\n",
        "      \"salary\": 80000\n",
        "    },\n",
        "    \"emp2\": {\n",
        "      \"name\": \"Ram\",\n",
        "      \"title\": \"Project Manager\",\n",
        "      \"salary\": 100000\n",
        "    }\n",
        "  },\n",
        "  \"department2\": {\n",
        "    \"emp3\": {\n",
        "      \"name\": \"Sita\",\n",
        "      \"title\": \"Data Scientist\",\n",
        "      \"salary\": 90000\n",
        "    }\n",
        "  }\n",
        "}\n",
        "\n",
        " - Accessing data within the nested dictionary\n",
        "print(employees[\"department1\"][\"emp1\"][\"name\"])\n",
        "print(employees[\"department2\"][\"emp3\"][\"title\"]);"
      ],
      "metadata": {
        "id": "6rD2TQBGWAzA"
      }
    },
    {
      "cell_type": "markdown",
      "source": [
        "17. Describe the time complexity of accessing elements in a dictionary.\n",
        "    - Answer:-> Time complexity of accessing elements in a dictionary is O(1)(constant time) on average.\n",
        "    It means the time it takes to retrieve a value using its key doesn't increase significantly as the dictionary size grows."
      ],
      "metadata": {
        "id": "NMqO1HmbWA_W"
      }
    },
    {
      "cell_type": "markdown",
      "source": [
        "18. In what situations are lists preferred over dictionaries?\n",
        "    - Answer:-> Lists are often preferred over dictionaries when the order of elements is crucial, frequent appending or extending is needed, or when the data is accessed sequentially using indices. Dictionaries are generally better when you need fast lookups based on keys, efficient key-value mapping, or when you need to store data associated with unique identifiers."
      ],
      "metadata": {
        "id": "1wbEqUD1WBFO"
      }
    },
    {
      "cell_type": "markdown",
      "source": [
        "19. Why are dictionaries considered unordered, and how does that affect data retrieval?\n",
        "    - Answer:-> They are considered unordered as they don't maintain the order in which items were inserted.\n",
        "    They can affect the data retrieval in few ways:-\n",
        "    (a)No positional access.\n",
        "    (b)Iteration Order.\n",
        "    (c)Key-based access."
      ],
      "metadata": {
        "id": "H265zMqYWBOn"
      }
    },
    {
      "cell_type": "markdown",
      "source": [
        "20. Explain the difference between a list and a dictionary in terms of data retrieval.\n",
        "    - Answer:-> In terms of data retrieval, lists access elements using indices (integers starting from 0), while dictionaries access elements using keys (which can be of any data type). Lists have a predefined order, and retrieving an element by its index is relatively fast. Dictionaries, however, offer faster retrieval based on keys, as they use a hash-based lookup."
      ],
      "metadata": {
        "id": "KWhyrbbGWBao"
      }
    },
    {
      "cell_type": "markdown",
      "source": [
        "# Practical Python Questions"
      ],
      "metadata": {
        "id": "EcVW0q9aWEgO"
      }
    },
    {
      "cell_type": "code",
      "source": [
        "#Question 1:- Write a code to create a string with you name and print it.\n",
        "a='Arun Raj'\n",
        "print(a);"
      ],
      "metadata": {
        "colab": {
          "base_uri": "https://localhost:8080/"
        },
        "id": "yL58Xc1YSVLc",
        "outputId": "3b387360-3e3d-49c7-98cf-a24f4b9b576e"
      },
      "execution_count": null,
      "outputs": [
        {
          "output_type": "stream",
          "name": "stdout",
          "text": [
            "Arun Raj\n"
          ]
        }
      ]
    },
    {
      "cell_type": "code",
      "source": [
        "#Question 2:- Write a code to find the length of the string \"Hello World\".\n",
        "a='Hello World'\n",
        "print(len(a));"
      ],
      "metadata": {
        "colab": {
          "base_uri": "https://localhost:8080/"
        },
        "id": "us7Y449ZSVIc",
        "outputId": "f35c0f58-186c-487f-c979-e488918181c9"
      },
      "execution_count": null,
      "outputs": [
        {
          "output_type": "stream",
          "name": "stdout",
          "text": [
            "8\n"
          ]
        }
      ]
    },
    {
      "cell_type": "code",
      "source": [
        "#Question 3:- Write a code to slice the first 3 characters from the string\"Python Programming\"\n",
        "a='Python Programming'\n",
        "print(a[:3]);"
      ],
      "metadata": {
        "colab": {
          "base_uri": "https://localhost:8080/"
        },
        "id": "ywOfpyXOSVEb",
        "outputId": "b46ef724-ab58-4d5f-85f5-c0068f05f4c4"
      },
      "execution_count": null,
      "outputs": [
        {
          "output_type": "stream",
          "name": "stdout",
          "text": [
            "Pyt\n"
          ]
        }
      ]
    },
    {
      "cell_type": "code",
      "source": [
        "#Question 4:- Write a code to convert the string \"hello\" to uppercase.\n",
        "a='hello'\n",
        "print(a.upper())"
      ],
      "metadata": {
        "id": "M_rQ5CBESVCe",
        "colab": {
          "base_uri": "https://localhost:8080/"
        },
        "outputId": "e025695a-d1b7-40d0-e18e-db4b298b1608"
      },
      "execution_count": null,
      "outputs": [
        {
          "output_type": "stream",
          "name": "stdout",
          "text": [
            "HELLO\n"
          ]
        }
      ]
    },
    {
      "cell_type": "code",
      "source": [
        "#Question 5:- Write a code to replace the word \"apple\" with \"orange\" in the string \"I like apple\".\n",
        "a='I like apple'\n",
        "print(a)\n",
        "print(a.replace('apple','orange'))"
      ],
      "metadata": {
        "id": "rM4afRCISU-i",
        "colab": {
          "base_uri": "https://localhost:8080/"
        },
        "outputId": "2979f877-17d4-4f5a-8f89-c7224659ab2d"
      },
      "execution_count": null,
      "outputs": [
        {
          "output_type": "stream",
          "name": "stdout",
          "text": [
            "I like apple\n",
            "I like orange\n"
          ]
        }
      ]
    },
    {
      "cell_type": "code",
      "source": [
        "#Question 6 :- Write a code to create a list with numbers 1 to 5 and print it.\n",
        "ls=[i for  i in range  (1,6)]\n",
        "print(ls);"
      ],
      "metadata": {
        "id": "rFbo7vVjSU8a",
        "colab": {
          "base_uri": "https://localhost:8080/"
        },
        "outputId": "3d6b2c2d-1ae0-454b-abdf-7daeba18bbcf"
      },
      "execution_count": null,
      "outputs": [
        {
          "output_type": "stream",
          "name": "stdout",
          "text": [
            "[1, 2, 3, 4, 5]\n"
          ]
        }
      ]
    },
    {
      "cell_type": "code",
      "source": [
        "#Question 7:- Write a code to append the number 10 to the list[1,2,3,4].\n",
        "ls=[1,2,3,4]\n",
        "ls.append(10)\n",
        "print(ls);"
      ],
      "metadata": {
        "id": "1i0DbRniSU5j",
        "colab": {
          "base_uri": "https://localhost:8080/"
        },
        "outputId": "fa99682c-5402-43c1-9ecd-4d0c3ee472f0"
      },
      "execution_count": null,
      "outputs": [
        {
          "output_type": "stream",
          "name": "stdout",
          "text": [
            "[1, 2, 3, 4, 10]\n"
          ]
        }
      ]
    },
    {
      "cell_type": "code",
      "source": [
        "#Question 8:- Write a code to remove the number 3 from the list [1,2,3,4,5].\n",
        "ls=[1,2,3,4,5]\n",
        "ls.remove(3)\n",
        "print(ls);"
      ],
      "metadata": {
        "id": "NwYAZthsSU2r",
        "colab": {
          "base_uri": "https://localhost:8080/"
        },
        "outputId": "b171a098-a91f-49d7-a8e7-4f1f0cccae76"
      },
      "execution_count": null,
      "outputs": [
        {
          "output_type": "stream",
          "name": "stdout",
          "text": [
            "[1, 2, 4, 5]\n"
          ]
        }
      ]
    },
    {
      "cell_type": "code",
      "source": [
        "#Question 9:-Write a code to access the second element in the list ['a','b','c','d'].\n",
        "ls=['a','b','c','d']\n",
        "print(ls[1])"
      ],
      "metadata": {
        "id": "dlrUFctESUw0",
        "colab": {
          "base_uri": "https://localhost:8080/"
        },
        "outputId": "46bbb1cd-ac40-4558-95d0-fd25a1b1fe37"
      },
      "execution_count": null,
      "outputs": [
        {
          "output_type": "stream",
          "name": "stdout",
          "text": [
            "b\n"
          ]
        }
      ]
    },
    {
      "cell_type": "code",
      "source": [
        "#Question 10:- Write a code to reverse the list[10,20,30,40,50].\n",
        "ls=[10,20,30,40,50]\n",
        "ls.reverse()\n",
        "print(ls);"
      ],
      "metadata": {
        "id": "zux3Bv_XSUsp",
        "colab": {
          "base_uri": "https://localhost:8080/"
        },
        "outputId": "39751f46-f6ca-4ece-e428-b21b8785bdf7"
      },
      "execution_count": null,
      "outputs": [
        {
          "output_type": "stream",
          "name": "stdout",
          "text": [
            "[50, 40, 30, 20, 10]\n"
          ]
        }
      ]
    },
    {
      "cell_type": "code",
      "source": [
        "#Question 11:- Write a code to create a tuple with the elements 100,200, 300 and print it.\n",
        "tp=(100,200,300)\n",
        "print(tp)"
      ],
      "metadata": {
        "id": "byte-7S1SUqc",
        "colab": {
          "base_uri": "https://localhost:8080/"
        },
        "outputId": "5c8a3d90-b1d1-4778-92ef-4970ef0df6e6"
      },
      "execution_count": null,
      "outputs": [
        {
          "output_type": "stream",
          "name": "stdout",
          "text": [
            "(100, 200, 300)\n"
          ]
        }
      ]
    },
    {
      "cell_type": "code",
      "source": [
        "#Question 12:- Write a code to access the second to last element of the tuple('red','green','blue','yellow')\n",
        "tp=('red','green','blue','yellow')\n",
        "print(tp[-2])"
      ],
      "metadata": {
        "id": "ywcWCERFSUml",
        "colab": {
          "base_uri": "https://localhost:8080/"
        },
        "outputId": "5ccf6f62-4577-422b-f244-f4ddb907de07"
      },
      "execution_count": null,
      "outputs": [
        {
          "output_type": "stream",
          "name": "stdout",
          "text": [
            "blue\n"
          ]
        }
      ]
    },
    {
      "cell_type": "code",
      "source": [
        "#Question 13:- Write a code to find the minimum number in the tuple(10,20,5,15).\n",
        "tp=(10,20,5,15)\n",
        "print(min(tp));"
      ],
      "metadata": {
        "id": "-RsS0AmfSUkd",
        "colab": {
          "base_uri": "https://localhost:8080/"
        },
        "outputId": "bdf5c755-6a0d-4cb1-95e2-544977ab7fc3"
      },
      "execution_count": null,
      "outputs": [
        {
          "output_type": "stream",
          "name": "stdout",
          "text": [
            "5\n"
          ]
        }
      ]
    },
    {
      "cell_type": "code",
      "source": [
        "#Question 14:-Write a code to find the index of the element \"cat\" in the tuple('dog,'cat','rabbit')\n",
        "tp=('dog','cat','rabbit')\n",
        "index_of_element=tp.index('cat')\n",
        "print(index_of_element);"
      ],
      "metadata": {
        "id": "jcJFutZmSUg3",
        "colab": {
          "base_uri": "https://localhost:8080/"
        },
        "outputId": "1248c947-8f29-4e82-8fff-e730c51a364a"
      },
      "execution_count": null,
      "outputs": [
        {
          "output_type": "stream",
          "name": "stdout",
          "text": [
            "1\n"
          ]
        }
      ]
    },
    {
      "cell_type": "code",
      "source": [
        "#Question 15:- Write a code to create a tuple containing three different fruits and check if \"kiwi\" is in it.\n",
        "tp=('Orange','Mango','kiwi')\n",
        "if \"kiwi\" in tp:\n",
        "    print(\"yes: kiwi is there!\")\n",
        "else:\n",
        "    print(\"No: It's not there!\");"
      ],
      "metadata": {
        "id": "v3FHl38ISUeN",
        "colab": {
          "base_uri": "https://localhost:8080/"
        },
        "outputId": "570e15de-ec36-4923-a3f8-bf32a7b4c779"
      },
      "execution_count": null,
      "outputs": [
        {
          "output_type": "stream",
          "name": "stdout",
          "text": [
            "yes: kiwi is there!\n"
          ]
        }
      ]
    },
    {
      "cell_type": "code",
      "source": [
        "#Question 16:- Write a code to create a set with the element 'a','b','c' and print it.\n",
        "a={'a','b','c'}\n",
        "print(a)\n",
        "print(type(a));"
      ],
      "metadata": {
        "id": "QyPR2l2FSUZ1",
        "colab": {
          "base_uri": "https://localhost:8080/"
        },
        "outputId": "3ca79e10-8453-4aa2-b3d0-f0d575f5ed28"
      },
      "execution_count": null,
      "outputs": [
        {
          "output_type": "stream",
          "name": "stdout",
          "text": [
            "{'c', 'a', 'b'}\n",
            "<class 'set'>\n"
          ]
        }
      ]
    },
    {
      "cell_type": "code",
      "source": [
        "#Question 17:- Write a code to clear all the elements from the set{1,2,3,4,5}.\n",
        "a={1,2,3,4,5}\n",
        "a.clear()\n",
        "print(a);"
      ],
      "metadata": {
        "id": "ouaM84HTSUXr",
        "colab": {
          "base_uri": "https://localhost:8080/"
        },
        "outputId": "ee9d1ad5-d325-4581-9a83-51f46238d091"
      },
      "execution_count": null,
      "outputs": [
        {
          "output_type": "stream",
          "name": "stdout",
          "text": [
            "set()\n"
          ]
        }
      ]
    },
    {
      "cell_type": "code",
      "source": [
        "#Question 18:- Write a code to remove the element 4 from the set {1,2,3,4}.\n",
        "a={1,2,3,4}\n",
        "a.remove(4)\n",
        "print(a);"
      ],
      "metadata": {
        "id": "bYvyhAddSUTj",
        "colab": {
          "base_uri": "https://localhost:8080/"
        },
        "outputId": "fb6ad899-982d-46dd-c4a4-c02660bfeefb"
      },
      "execution_count": null,
      "outputs": [
        {
          "output_type": "stream",
          "name": "stdout",
          "text": [
            "{1, 2, 3}\n"
          ]
        }
      ]
    },
    {
      "cell_type": "code",
      "source": [
        "#Question 19:- Write a code to find the union of two sets {1,2,3} and {3,4,5}.\n",
        "a={1,2,3}\n",
        "b={3,4,5}\n",
        "c=a.union(b)\n",
        "print(c);"
      ],
      "metadata": {
        "id": "fbSIQGSdSURr",
        "colab": {
          "base_uri": "https://localhost:8080/"
        },
        "outputId": "81e84907-9451-40b2-cacf-bb84e35ed105"
      },
      "execution_count": null,
      "outputs": [
        {
          "output_type": "stream",
          "name": "stdout",
          "text": [
            "{1, 2, 3, 4, 5}\n"
          ]
        }
      ]
    },
    {
      "cell_type": "code",
      "source": [
        "#Question 20:- Write a code to find the intersection of two sets{1,2,3} and {2,3,4}\n",
        "a={1,2,3}\n",
        "b={2,3,4}\n",
        "c=a.intersection(b)\n",
        "print(c);"
      ],
      "metadata": {
        "id": "jm8marY3SUNi",
        "colab": {
          "base_uri": "https://localhost:8080/"
        },
        "outputId": "3fdabf0d-9c21-46ec-822e-a4654da41555"
      },
      "execution_count": null,
      "outputs": [
        {
          "output_type": "stream",
          "name": "stdout",
          "text": [
            "{2, 3}\n"
          ]
        }
      ]
    },
    {
      "cell_type": "code",
      "source": [
        "#Question 21:- Write  a code to create a dictionary with the keys \"name\",\"age\" and \"city\" and print it\n",
        "a={'name':'Arun','age':26,'city':'Raxaul'}\n",
        "print(a);"
      ],
      "metadata": {
        "id": "oMF-8vEsSULk",
        "colab": {
          "base_uri": "https://localhost:8080/"
        },
        "outputId": "fc64e002-6144-4b0f-b120-60e17a7d5e13"
      },
      "execution_count": null,
      "outputs": [
        {
          "output_type": "stream",
          "name": "stdout",
          "text": [
            "{'name': 'Arun', 'age': 26, 'city': 'Raxaul'}\n"
          ]
        }
      ]
    },
    {
      "cell_type": "code",
      "source": [
        "#Question 22:- Write a code to add a new key-value pair \"country\":\"USA\" to the dictionary {'name':'John','age':25}.\n",
        "a={'name':'John','age':25}\n",
        "a['country']='USA'\n",
        "print(a);"
      ],
      "metadata": {
        "id": "vDtYsz6mSUG_",
        "colab": {
          "base_uri": "https://localhost:8080/"
        },
        "outputId": "f967888b-9344-4e66-891d-5e32701f24e1"
      },
      "execution_count": null,
      "outputs": [
        {
          "output_type": "stream",
          "name": "stdout",
          "text": [
            "{'name': 'John', 'age': 25, 'country': 'USA'}\n"
          ]
        }
      ]
    },
    {
      "cell_type": "code",
      "source": [
        "#Question 23:- Write a code to access the value associated with the key \"name\" in the dictionary{'name':'Alice','age':30}\n",
        "dict={'name':'Alice','age':30}\n",
        "x=dict['name']\n",
        "print(x);"
      ],
      "metadata": {
        "id": "Ytxgsro6SUE-",
        "colab": {
          "base_uri": "https://localhost:8080/"
        },
        "outputId": "decd3d3d-a85e-4adf-e02a-d75d47ae7b68"
      },
      "execution_count": null,
      "outputs": [
        {
          "output_type": "stream",
          "name": "stdout",
          "text": [
            "Alice\n"
          ]
        }
      ]
    },
    {
      "cell_type": "code",
      "source": [
        "#Question 24:- Write a code to remove the key \"age\" from the dictionary{'name':'Bob','age':22,'city':'New york'}\n",
        "a={'name':'Bob','age':22,'city':'New york'}\n",
        "a.pop('age')\n",
        "print(a);"
      ],
      "metadata": {
        "id": "TUSC4tMEST71",
        "colab": {
          "base_uri": "https://localhost:8080/"
        },
        "outputId": "644deb25-3c2c-4e60-a383-721f77ad3296"
      },
      "execution_count": null,
      "outputs": [
        {
          "output_type": "stream",
          "name": "stdout",
          "text": [
            "{'name': 'Bob', 'city': 'New york'}\n"
          ]
        }
      ]
    },
    {
      "cell_type": "code",
      "source": [
        "#Question 25:- Write a code to check if the key \"city\" exists in the dictionary{'name':'Alice','city':'paris'}.\n",
        "a={'name':'Alice','city':'paris'}\n",
        "if 'city' in a:\n",
        "      print('Yes,it is there!')\n",
        "else:\n",
        "      print('No, it is not there!');"
      ],
      "metadata": {
        "id": "fnxOA2_ESTsD",
        "colab": {
          "base_uri": "https://localhost:8080/"
        },
        "outputId": "aa06412d-8140-48ab-fab2-f56989dbc7d5"
      },
      "execution_count": null,
      "outputs": [
        {
          "output_type": "stream",
          "name": "stdout",
          "text": [
            "Yes,it is there!\n"
          ]
        }
      ]
    },
    {
      "cell_type": "code",
      "source": [
        "#Question 26:- Write a code to create a list,tuple and a dictionary and print them all.\n",
        "ls=['arun',1,1.5,True]\n",
        "tp=('arun',1,1.5,True)\n",
        "dict={'Name':'Ram','Age':29,'Place':'Ayodhya'}\n",
        "print(ls)\n",
        "print(tp)\n",
        "print(dict)"
      ],
      "metadata": {
        "id": "b4t_WFyedM38",
        "colab": {
          "base_uri": "https://localhost:8080/"
        },
        "outputId": "d096bff5-4503-4bf9-c5ff-a1fc2365bb4c"
      },
      "execution_count": null,
      "outputs": [
        {
          "output_type": "stream",
          "name": "stdout",
          "text": [
            "['arun', 1, 1.5, True]\n",
            "('arun', 1, 1.5, True)\n",
            "{'Name': 'Ram', 'Age': 29, 'Place': 'Ayodhya'}\n"
          ]
        }
      ]
    },
    {
      "cell_type": "code",
      "source": [
        "#Question 27:- Write a code to create a list of 5 random numbers between 1 and 100, sort it in ascending order and print the result.\n",
        "import random\n",
        "a=random.sample(range(1,100),5)\n",
        "print(a)\n",
        "a.sort()\n",
        "print(a);"
      ],
      "metadata": {
        "colab": {
          "base_uri": "https://localhost:8080/"
        },
        "id": "WGHi0vW9UtJH",
        "outputId": "e0c27a25-0a12-4c02-f2dc-aa0e122f379e"
      },
      "execution_count": null,
      "outputs": [
        {
          "output_type": "stream",
          "name": "stdout",
          "text": [
            "[72, 10, 85, 3, 42]\n",
            "[3, 10, 42, 72, 85]\n"
          ]
        }
      ]
    },
    {
      "cell_type": "code",
      "source": [
        "#Question 28:-Write a code to create a list with strings and print the element at the third index.\n",
        "ls=['Ram','Sita','Ramayana',' Lord Shiva']\n",
        "print(ls[2]);"
      ],
      "metadata": {
        "colab": {
          "base_uri": "https://localhost:8080/"
        },
        "id": "PINkuNoUU2Uc",
        "outputId": "d571e627-c50e-4cc0-f9ab-087fccbcce76"
      },
      "execution_count": null,
      "outputs": [
        {
          "output_type": "stream",
          "name": "stdout",
          "text": [
            "Ramayana\n"
          ]
        }
      ]
    },
    {
      "cell_type": "code",
      "source": [
        "#Question 29:- Write a code to combine two dictionaries into one and print the result.\n",
        "a={'name':'Ram','age':29}\n",
        "b={'bride':'sita','Place':'Janakpur'}\n",
        "c={**a,**b}\n",
        "print(c);"
      ],
      "metadata": {
        "colab": {
          "base_uri": "https://localhost:8080/"
        },
        "id": "P0hM7EdBU9Lp",
        "outputId": "7203c182-0b24-46da-90d5-269b7d8f02e8"
      },
      "execution_count": null,
      "outputs": [
        {
          "output_type": "stream",
          "name": "stdout",
          "text": [
            "{'name': 'Ram', 'age': 29, 'bride': 'sita', 'Place': 'Janakpur'}\n"
          ]
        }
      ]
    },
    {
      "cell_type": "code",
      "source": [
        "#Question 30:- Write a code to convert a list of strings into a set.\n",
        "ls=['Ram','Sita','Ramayana',' Lord Shiva','Lord Shiva']\n",
        "st=set(ls)\n",
        "print(st)\n",
        "print(type(st));"
      ],
      "metadata": {
        "colab": {
          "base_uri": "https://localhost:8080/"
        },
        "id": "mTigSlk4VBbA",
        "outputId": "13be8d4e-0435-41d0-d55b-d457179d28da"
      },
      "execution_count": null,
      "outputs": [
        {
          "output_type": "stream",
          "name": "stdout",
          "text": [
            "{' Lord Shiva', 'Sita', 'Lord Shiva', 'Ram', 'Ramayana'}\n",
            "<class 'set'>\n"
          ]
        }
      ]
    }
  ]
}